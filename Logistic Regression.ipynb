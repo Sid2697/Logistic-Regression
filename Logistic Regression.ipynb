{
 "cells": [
  {
   "cell_type": "markdown",
   "metadata": {},
   "source": [
    "# Logistic Regression\n",
    "In this Notebook I'll make my version of Logistic regression from the dataset provided the the deeplearning.ai course.\n",
    "This data set was provided in the second week of first course in the specialization.\n",
    "The objective is to make a Logistic Regression to classify cats."
   ]
  },
  {
   "cell_type": "code",
   "execution_count": 30,
   "metadata": {},
   "outputs": [],
   "source": [
    "# Importing useful packages\n",
    "import numpy as np\n",
    "import matplotlib.pyplot as plt\n",
    "import h5py"
   ]
  },
  {
   "cell_type": "code",
   "execution_count": 68,
   "metadata": {},
   "outputs": [],
   "source": [
    "# Loading data from files into our environment\n",
    "train_dataset = h5py.File('train_catvnoncat.h5','r')\n",
    "train_set_x_orig = np.array(train_dataset['train_set_x'][:]) # features for training \n",
    "train_set_y_orig = np.array(train_dataset['train_set_y'][:]) # labels for training\n",
    "\n",
    "test_dataset = h5py.File('test_catvnoncat.h5','r')\n",
    "test_set_x_orig = np.array(test_dataset['test_set_x'][:]) # features for test\n",
    "test_set_y_orig = np.array(test_dataset['test_set_y'][:]) # labels for test\n",
    "\n",
    "classes = np.array(test_dataset['list_classes'][:]) # the list of classes\n",
    "\n",
    "# Reshaping labels\n",
    "train_set_y_orig = train_set_y_orig.reshape((1, train_set_y_orig.shape[0]))\n",
    "test_set_y_orig = test_set_y_orig.reshape((1, test_set_y_orig.shape[0]))"
   ]
  },
  {
   "cell_type": "code",
   "execution_count": 71,
   "metadata": {},
   "outputs": [
    {
     "name": "stdout",
     "output_type": "stream",
     "text": [
      "cat\n"
     ]
    },
    {
     "data": {
      "image/png": "[encoded data removed]",
      "text/plain": [
       "<matplotlib.figure.Figure at 0x10e198828>"
      ]
     },
     "metadata": {},
     "output_type": "display_data"
    }
   ],
   "source": [
    "# Visualizing the data\n",
    "index = 109\n",
    "plt.imshow(train_set_x_orig[index])\n",
    "if train_set_y_orig[0,index] == 1:\n",
    "    print('cat')\n",
    "else:\n",
    "    print('non-cat')"
   ]
  },
  {
   "cell_type": "code",
   "execution_count": 75,
   "metadata": {},
   "outputs": [
    {
     "name": "stdout",
     "output_type": "stream",
     "text": [
      "Number of Training examples are 209\n",
      "Number of Test examples are 50\n",
      "Shape of 1 example in data (64, 64, 3)\n"
     ]
    }
   ],
   "source": [
    "m_train = train_set_x_orig.shape[0] # Number of training examples\n",
    "m_test = test_set_x_orig.shape[0] # Number of test examples\n",
    "print('Number of Training examples are',m_train)\n",
    "print('Number of Test examples are',m_test)\n",
    "print('Shape of 1 example in data',train_set_x_orig[1].shape) # This shows the image is 64 x 64 in size and is colored"
   ]
  },
  {
   "cell_type": "code",
   "execution_count": 74,
   "metadata": {},
   "outputs": [
    {
     "name": "stdout",
     "output_type": "stream",
     "text": [
      "Shape of flatened out train set (12288, 209)\n",
      "Shape of flatened out test set (12288, 50)\n"
     ]
    }
   ],
   "source": [
    "# Flatting means to convert the 64 x 64 x 3 data into one single row on data so that it is easier to process on the data\n",
    "train_set_x_flatten = train_set_x_orig.reshape(train_set_x_orig.shape[0], -1).T \n",
    "test_set_x_flatten = test_set_x_orig.reshape(test_set_x_orig.shape[0], -1).T\n",
    "print('Shape of flatened out train set',train_set_x_flatten.shape)\n",
    "print('Shape of flatened out test set',test_set_x_flatten.shape)"
   ]
  },
  {
   "cell_type": "code",
   "execution_count": 79,
   "metadata": {},
   "outputs": [],
   "source": [
    "# Standardzing the data set\n",
    "train_set_x = train_set_x_flatten/255\n",
    "test_set_x = test_set_x_flatten/255"
   ]
  },
  {
   "cell_type": "code",
   "execution_count": null,
   "metadata": {},
   "outputs": [],
   "source": []
  }
 ],
 "metadata": {
  "kernelspec": {
   "display_name": "Python 3",
   "language": "python",
   "name": "python3"
  },
  "language_info": {
   "codemirror_mode": {
    "name": "ipython",
    "version": 3
   },
   "file_extension": ".py",
   "mimetype": "text/x-python",
   "name": "python",
   "nbconvert_exporter": "python",
   "pygments_lexer": "ipython3",
   "version": "3.6.4"
  }
 },
 "nbformat": 4,
 "nbformat_minor": 2
}
